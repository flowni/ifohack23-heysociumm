{
 "cells": [
  {
   "cell_type": "markdown",
   "id": "f55549e0",
   "metadata": {},
   "source": [
    "# GoogleEarthEngine Python Image Download\n",
    "In this notebook we will download geodata from GEE."
   ]
  },
  {
   "cell_type": "markdown",
   "id": "0e7e6646",
   "metadata": {},
   "source": [
    "For this we will need the following libraries:"
   ]
  },
  {
   "cell_type": "code",
   "execution_count": 2,
   "id": "ae16aa62",
   "metadata": {},
   "outputs": [
    {
     "name": "stdout",
     "output_type": "stream",
     "text": [
      "Collecting ee\n",
      "  Downloading ee-0.2.tar.gz (3.0 kB)\n",
      "  Preparing metadata (setup.py) ... \u001b[?25ldone\n",
      "\u001b[?25hCollecting blessings\n",
      "  Downloading blessings-1.7-py3-none-any.whl (18 kB)\n",
      "Requirement already satisfied: six in /Users/nicholas/.pyenv/versions/3.8.12/lib/python3.8/site-packages (from blessings->ee) (1.16.0)\n",
      "Building wheels for collected packages: ee\n",
      "  Building wheel for ee (setup.py) ... \u001b[?25ldone\n",
      "\u001b[?25h  Created wheel for ee: filename=ee-0.2-py3-none-any.whl size=3678 sha256=58d961f8e293da7e1b7729fe1ff7f6b88ccd26e9e438d7cc971d08a23fd75ac9\n",
      "  Stored in directory: /Users/nicholas/Library/Caches/pip/wheels/ff/47/6b/f8f50cc75aac1ead679d807102379eadefa7972f7068fc16cd\n",
      "Successfully built ee\n",
      "Installing collected packages: blessings, ee\n",
      "Successfully installed blessings-1.7 ee-0.2\n",
      "\n",
      "\u001b[1m[\u001b[0m\u001b[34;49mnotice\u001b[0m\u001b[1;39;49m]\u001b[0m\u001b[39;49m A new release of pip available: \u001b[0m\u001b[31;49m22.3.1\u001b[0m\u001b[39;49m -> \u001b[0m\u001b[32;49m23.1.2\u001b[0m\n",
      "\u001b[1m[\u001b[0m\u001b[34;49mnotice\u001b[0m\u001b[1;39;49m]\u001b[0m\u001b[39;49m To update, run: \u001b[0m\u001b[32;49mpip install --upgrade pip\u001b[0m\n"
     ]
    }
   ],
   "source": [
    "!pip install ee"
   ]
  },
  {
   "cell_type": "code",
   "execution_count": 1,
   "id": "e5cffc77",
   "metadata": {},
   "outputs": [
    {
     "ename": "ModuleNotFoundError",
     "evalue": "No module named 'ee'",
     "output_type": "error",
     "traceback": [
      "\u001b[0;31m---------------------------------------------------------------------------\u001b[0m",
      "\u001b[0;31mModuleNotFoundError\u001b[0m                       Traceback (most recent call last)",
      "Input \u001b[0;32mIn [1]\u001b[0m, in \u001b[0;36m<module>\u001b[0;34m\u001b[0m\n\u001b[0;32m----> 1\u001b[0m \u001b[38;5;28;01mimport\u001b[39;00m \u001b[38;5;21;01mee\u001b[39;00m\n\u001b[1;32m      2\u001b[0m \u001b[38;5;28;01mimport\u001b[39;00m \u001b[38;5;21;01mgeemap\u001b[39;00m\n\u001b[1;32m      3\u001b[0m \u001b[38;5;28;01mimport\u001b[39;00m \u001b[38;5;21;01mgeopandas\u001b[39;00m \u001b[38;5;28;01mas\u001b[39;00m \u001b[38;5;21;01mgpd\u001b[39;00m\n",
      "\u001b[0;31mModuleNotFoundError\u001b[0m: No module named 'ee'"
     ]
    }
   ],
   "source": [
    "import ee\n",
    "import geemap\n",
    "import geopandas as gpd\n",
    "import os\n",
    "\n",
    "#os.chdir(\"...\")"
   ]
  },
  {
   "cell_type": "markdown",
   "id": "24901c9e",
   "metadata": {},
   "source": [
    "Once you have created your GEE-Account you can start the authentication process with the following lines of code. Then a browser window will open automatically where you can copy a token. Please make sure that you check all the terms and conditions boxes, otherwise the api-code might not work. You also have to register your cloud project for non commercial use."
   ]
  },
  {
   "cell_type": "code",
   "execution_count": null,
   "id": "f7c028ad",
   "metadata": {
    "scrolled": true
   },
   "outputs": [],
   "source": [
    "#Google Earth Authenticate Process - API-Code is needed\n",
    "ee.Authenticate()\n",
    "ee.Initialize()"
   ]
  },
  {
   "cell_type": "markdown",
   "id": "7c09c8d8",
   "metadata": {},
   "source": [
    "Now we start with the download of a ESA-WorldCover image. This data is a global landcover classification in a 10x10m resolution. First we need a study area again. We will use the city bremen. The city file is divided in all its different districts or neighborhoods. To get a single merged area we will use the dissolve function."
   ]
  },
  {
   "cell_type": "code",
   "execution_count": null,
   "id": "05de3e22",
   "metadata": {},
   "outputs": [],
   "source": [
    "inpath = \"../data_example/Example_Bremen_Neighborhoods.gpkg\"\n",
    "city = gpd.read_file(inpath)\n",
    "dissolve = city.dissolve()"
   ]
  },
  {
   "cell_type": "markdown",
   "id": "f086bd35",
   "metadata": {},
   "source": [
    "Now we have to convert the geodataframe in a Earth Engine readable format. Then we can pick a Image as a Image Collection."
   ]
  },
  {
   "cell_type": "code",
   "execution_count": null,
   "id": "ede349ef",
   "metadata": {},
   "outputs": [],
   "source": [
    "ee_readable = geemap.geopandas_to_ee(dissolve)\n",
    "esa = ee.ImageCollection(\"ESA/WorldCover/v100\").filterBounds(ee_readable.geometry())"
   ]
  },
  {
   "cell_type": "markdown",
   "id": "227ae8e7",
   "metadata": {},
   "source": [
    "Now we just have to declare an output path or a name for our file and export the image via ee. The important part here is to set the right geometric scale and a fitting coordinate reference system!"
   ]
  },
  {
   "cell_type": "code",
   "execution_count": null,
   "id": "e065b720",
   "metadata": {},
   "outputs": [],
   "source": [
    "outpath = \"Worldcover_Bremen.tif\"\n",
    "geemap.ee_export_image(esa.first(), \n",
    "                        filename= outpath,\n",
    "                        scale = 10, region = ee_readable.geometry(), file_per_band=False,\n",
    "                        crs = 'EPSG:3035')"
   ]
  },
  {
   "cell_type": "markdown",
   "id": "01d082f6",
   "metadata": {},
   "source": [
    "Great. Now let's build a function out of it und use it in other scripts too! There are many other datasets to download to play with or to analyze. Just explore their website with good documented tutorials on https://earthengine.google.com/"
   ]
  },
  {
   "cell_type": "code",
   "execution_count": null,
   "id": "4f57d314",
   "metadata": {},
   "outputs": [],
   "source": [
    "def download_WorldCover(inpath,outpath):\n",
    "    '''\n",
    "    Downloads World Cover Data from Google Earth Engine API. Input file must be a boundary file as GPKG or SHP.\n",
    "\n",
    "    Parameters\n",
    "    ----------\n",
    "    inpath : STRING\n",
    "        File path including filename for area of interest. Must be GPKG or SHP.\n",
    "    outpath : STRING\n",
    "        File path including filename for WorldCover out file. Don't forget .tif extension!\n",
    "\n",
    "    Returns\n",
    "    -------\n",
    "    None.\n",
    "\n",
    "    '''\n",
    "    \n",
    "    city = gpd.read_file(inpath)\n",
    "    dissolve = city.dissolve()\n",
    "    ee_readable = geemap.geopandas_to_ee(dissolve)\n",
    "    esa = ee.ImageCollection(\"ESA/WorldCover/v100\").filterBounds(ee_readable.geometry())\n",
    "    geemap.ee_export_image(esa.first(), \n",
    "                            filename= outpath,\n",
    "                            scale = 10, region = ee_readable.geometry(), file_per_band=False,\n",
    "                            crs = 'EPSG:3035')\n",
    "    \n",
    "    \n",
    "if __name__ == '__main__':\n",
    "    download_WorldCover(\"CityDistricts/Districts_FrankfurtAmMain.gpkg\",\n",
    "                        \"WorldCover/WorldCover_FrankfurtAmMain.tif\")"
   ]
  }
 ],
 "metadata": {
  "kernelspec": {
   "display_name": "Python 3 (ipykernel)",
   "language": "python",
   "name": "python3"
  },
  "language_info": {
   "codemirror_mode": {
    "name": "ipython",
    "version": 3
   },
   "file_extension": ".py",
   "mimetype": "text/x-python",
   "name": "python",
   "nbconvert_exporter": "python",
   "pygments_lexer": "ipython3",
   "version": "3.8.12"
  }
 },
 "nbformat": 4,
 "nbformat_minor": 5
}
