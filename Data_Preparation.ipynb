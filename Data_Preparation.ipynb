{
 "cells": [
  {
   "cell_type": "code",
   "execution_count": 3,
   "metadata": {},
   "outputs": [],
   "source": [
    "import pandas as pd\n",
    "import geopandas as gpd\n",
    "import folium \n",
    "import matplotlib.pyplot as plt\n",
    "from sklearn.cluster import KMeans\n",
    "from sklearn.model_selection import train_test_split\n",
    "from sklearn.metrics import accuracy_score\n",
    "from sklearn.metrics import mean_squared_error\n",
    "import numpy as np\n",
    "from scipy.stats import linregress\n",
    "import folium\n",
    "from scipy.stats import pearsonr\n",
    "import streamlit as st\n",
    "from streamlit_folium import folium_static\n",
    "from pysal.lib import weights  \n",
    "import segregation as seg\n",
    "from sklearn.metrics import r2_score\n",
    "from xgboost.sklearn import XGBRegressor\n",
    "from sklearn.model_selection import cross_val_score\n",
    "from sklearn.model_selection import RepeatedKFold\n",
    "import shap\n"
   ]
  },
  {
   "cell_type": "code",
   "execution_count": 4,
   "metadata": {},
   "outputs": [],
   "source": [
    "# Read zensus data in 100m x 100m grid\n",
    "df1 = pd.read_csv('data/Zensus_Bremen_Buildings.csv', delimiter=';', index_col=0)\n",
    "df2 = pd.read_csv('data/Zensus_Bremen_Families.csv', delimiter=';', index_col=0)\n",
    "df3 = pd.read_csv('data/Zensus_Bremen_Households.csv', delimiter=';', index_col=0)\n",
    "df4 = pd.read_csv('data/Zensus_Bremen_Population.csv', delimiter=';', index_col=0)\n",
    "df5 = gpd.read_file('data/Zensus_Bremen_Grid_100m.gpkg')\n",
    "df6 = gpd.read_file('data/Neighborhoods_Bremen.gpkg')"
   ]
  },
  {
   "cell_type": "code",
   "execution_count": 5,
   "metadata": {},
   "outputs": [
    {
     "data": {
      "text/html": [
       "<div>\n",
       "<style scoped>\n",
       "    .dataframe tbody tr th:only-of-type {\n",
       "        vertical-align: middle;\n",
       "    }\n",
       "\n",
       "    .dataframe tbody tr th {\n",
       "        vertical-align: top;\n",
       "    }\n",
       "\n",
       "    .dataframe thead th {\n",
       "        text-align: right;\n",
       "    }\n",
       "</style>\n",
       "<table border=\"1\" class=\"dataframe\">\n",
       "  <thead>\n",
       "    <tr style=\"text-align: right;\">\n",
       "      <th></th>\n",
       "      <th>Neighborhood_FID</th>\n",
       "      <th>Neighborhood_Code</th>\n",
       "      <th>Neighborhood_Name</th>\n",
       "      <th>District_Code</th>\n",
       "      <th>District_Name</th>\n",
       "      <th>City_Code</th>\n",
       "      <th>City_Name</th>\n",
       "      <th>geometry</th>\n",
       "    </tr>\n",
       "  </thead>\n",
       "  <tbody>\n",
       "    <tr>\n",
       "      <th>0</th>\n",
       "      <td>1</td>\n",
       "      <td>04011111</td>\n",
       "      <td>Altstadt</td>\n",
       "      <td>04011110</td>\n",
       "      <td>Mitte</td>\n",
       "      <td>04011000</td>\n",
       "      <td>Bremen</td>\n",
       "      <td>MULTIPOLYGON (((4240416.102 3331179.886, 42404...</td>\n",
       "    </tr>\n",
       "    <tr>\n",
       "      <th>1</th>\n",
       "      <td>2</td>\n",
       "      <td>04011112</td>\n",
       "      <td>Bahnhofsvorstadt</td>\n",
       "      <td>04011110</td>\n",
       "      <td>Mitte</td>\n",
       "      <td>04011000</td>\n",
       "      <td>Bremen</td>\n",
       "      <td>MULTIPOLYGON (((4240636.917 3332085.091, 42408...</td>\n",
       "    </tr>\n",
       "    <tr>\n",
       "      <th>2</th>\n",
       "      <td>3</td>\n",
       "      <td>04011113</td>\n",
       "      <td>Ostertor</td>\n",
       "      <td>04011110</td>\n",
       "      <td>Mitte</td>\n",
       "      <td>04011000</td>\n",
       "      <td>Bremen</td>\n",
       "      <td>MULTIPOLYGON (((4242286.604 3330894.457, 42423...</td>\n",
       "    </tr>\n",
       "    <tr>\n",
       "      <th>3</th>\n",
       "      <td>4</td>\n",
       "      <td>04011122</td>\n",
       "      <td>Industriehäfen</td>\n",
       "      <td>04011120</td>\n",
       "      <td>Häfen</td>\n",
       "      <td>04011000</td>\n",
       "      <td>Bremen</td>\n",
       "      <td>MULTIPOLYGON (((4234857.715 3337708.696, 42349...</td>\n",
       "    </tr>\n",
       "    <tr>\n",
       "      <th>4</th>\n",
       "      <td>5</td>\n",
       "      <td>04011124</td>\n",
       "      <td>Neustädter Hafen</td>\n",
       "      <td>04011120</td>\n",
       "      <td>Häfen</td>\n",
       "      <td>04011000</td>\n",
       "      <td>Bremen</td>\n",
       "      <td>MULTIPOLYGON (((4233902.810 3335297.269, 42339...</td>\n",
       "    </tr>\n",
       "    <tr>\n",
       "      <th>...</th>\n",
       "      <td>...</td>\n",
       "      <td>...</td>\n",
       "      <td>...</td>\n",
       "      <td>...</td>\n",
       "      <td>...</td>\n",
       "      <td>...</td>\n",
       "      <td>...</td>\n",
       "      <td>...</td>\n",
       "    </tr>\n",
       "    <tr>\n",
       "      <th>83</th>\n",
       "      <td>84</td>\n",
       "      <td>04011532</td>\n",
       "      <td>Rönnebeck</td>\n",
       "      <td>04011530</td>\n",
       "      <td>Blumenthal</td>\n",
       "      <td>04011000</td>\n",
       "      <td>Bremen</td>\n",
       "      <td>MULTIPOLYGON (((4223933.146 3344134.840, 42240...</td>\n",
       "    </tr>\n",
       "    <tr>\n",
       "      <th>84</th>\n",
       "      <td>85</td>\n",
       "      <td>04011533</td>\n",
       "      <td>Lüssum-Bockhorn</td>\n",
       "      <td>04011530</td>\n",
       "      <td>Blumenthal</td>\n",
       "      <td>04011000</td>\n",
       "      <td>Bremen</td>\n",
       "      <td>MULTIPOLYGON (((4227416.828 3345662.459, 42274...</td>\n",
       "    </tr>\n",
       "    <tr>\n",
       "      <th>85</th>\n",
       "      <td>86</td>\n",
       "      <td>04011534</td>\n",
       "      <td>Farge</td>\n",
       "      <td>04011530</td>\n",
       "      <td>Blumenthal</td>\n",
       "      <td>04011000</td>\n",
       "      <td>Bremen</td>\n",
       "      <td>MULTIPOLYGON (((4223225.984 3346188.566, 42232...</td>\n",
       "    </tr>\n",
       "    <tr>\n",
       "      <th>86</th>\n",
       "      <td>87</td>\n",
       "      <td>04011535</td>\n",
       "      <td>Rekum</td>\n",
       "      <td>04011530</td>\n",
       "      <td>Blumenthal</td>\n",
       "      <td>04011000</td>\n",
       "      <td>Bremen</td>\n",
       "      <td>MULTIPOLYGON (((4221202.073 3347683.560, 42212...</td>\n",
       "    </tr>\n",
       "    <tr>\n",
       "      <th>87</th>\n",
       "      <td>88</td>\n",
       "      <td>NaN</td>\n",
       "      <td>Oberneuland</td>\n",
       "      <td>NaN</td>\n",
       "      <td>Oberneuland</td>\n",
       "      <td>04011000</td>\n",
       "      <td>Bremen</td>\n",
       "      <td>MULTIPOLYGON (((4250650.394 3334865.391, 42506...</td>\n",
       "    </tr>\n",
       "  </tbody>\n",
       "</table>\n",
       "<p>88 rows × 8 columns</p>\n",
       "</div>"
      ],
      "text/plain": [
       "    Neighborhood_FID Neighborhood_Code Neighborhood_Name District_Code   \n",
       "0                  1          04011111          Altstadt      04011110  \\\n",
       "1                  2          04011112  Bahnhofsvorstadt      04011110   \n",
       "2                  3          04011113          Ostertor      04011110   \n",
       "3                  4          04011122    Industriehäfen      04011120   \n",
       "4                  5          04011124  Neustädter Hafen      04011120   \n",
       "..               ...               ...               ...           ...   \n",
       "83                84          04011532         Rönnebeck      04011530   \n",
       "84                85          04011533   Lüssum-Bockhorn      04011530   \n",
       "85                86          04011534             Farge      04011530   \n",
       "86                87          04011535             Rekum      04011530   \n",
       "87                88               NaN       Oberneuland           NaN   \n",
       "\n",
       "   District_Name City_Code City_Name   \n",
       "0          Mitte  04011000    Bremen  \\\n",
       "1          Mitte  04011000    Bremen   \n",
       "2          Mitte  04011000    Bremen   \n",
       "3          Häfen  04011000    Bremen   \n",
       "4          Häfen  04011000    Bremen   \n",
       "..           ...       ...       ...   \n",
       "83    Blumenthal  04011000    Bremen   \n",
       "84    Blumenthal  04011000    Bremen   \n",
       "85    Blumenthal  04011000    Bremen   \n",
       "86    Blumenthal  04011000    Bremen   \n",
       "87   Oberneuland  04011000    Bremen   \n",
       "\n",
       "                                             geometry  \n",
       "0   MULTIPOLYGON (((4240416.102 3331179.886, 42404...  \n",
       "1   MULTIPOLYGON (((4240636.917 3332085.091, 42408...  \n",
       "2   MULTIPOLYGON (((4242286.604 3330894.457, 42423...  \n",
       "3   MULTIPOLYGON (((4234857.715 3337708.696, 42349...  \n",
       "4   MULTIPOLYGON (((4233902.810 3335297.269, 42339...  \n",
       "..                                                ...  \n",
       "83  MULTIPOLYGON (((4223933.146 3344134.840, 42240...  \n",
       "84  MULTIPOLYGON (((4227416.828 3345662.459, 42274...  \n",
       "85  MULTIPOLYGON (((4223225.984 3346188.566, 42232...  \n",
       "86  MULTIPOLYGON (((4221202.073 3347683.560, 42212...  \n",
       "87  MULTIPOLYGON (((4250650.394 3334865.391, 42506...  \n",
       "\n",
       "[88 rows x 8 columns]"
      ]
     },
     "execution_count": 5,
     "metadata": {},
     "output_type": "execute_result"
    }
   ],
   "source": [
    "df6"
   ]
  },
  {
   "cell_type": "code",
   "execution_count": 7,
   "metadata": {},
   "outputs": [],
   "source": [
    "# Load the neighborhood polygons\n",
    "neighborhood_polygons = gpd.read_file('data/Land_Prices_Neighborhood_Bremen.gpkg')"
   ]
  },
  {
   "cell_type": "code",
   "execution_count": 8,
   "metadata": {},
   "outputs": [],
   "source": [
    "# Merge them into a single dataframe by the column Grid_Code\n",
    "merged_df = pd.merge(df1, df2, on='Grid_Code')\n",
    "merged_df = pd.merge(merged_df, df3, on='Grid_Code')\n",
    "merged_df = pd.merge(merged_df, df4, on='Grid_Code')\n",
    "merged_df = pd.merge(merged_df, df5, on='Grid_Code')\n",
    "zensus_data = gpd.GeoDataFrame(merged_df)\n",
    "# Extract the grid middle points to match them later to their respective neighborhoods\n",
    "zensus_data.geometry = zensus_data.geometry.centroid\n",
    "# Reproject the data to use the same coordinate system\n",
    "neighborhood_polygons = neighborhood_polygons.to_crs(zensus_data.crs)\n",
    "# Join the grid points into the neighborhoods and group them\n",
    "zensus_data_by_neighborhood = gpd.sjoin(zensus_data, neighborhood_polygons, how='left', op='within')\n",
    "# Drop any non numeric data\n",
    "zensus_data_by_neighborhood['BRW'] = pd.to_numeric(zensus_data_by_neighborhood.Land_Value, errors='coerce')\n",
    "# Drop grid cells with not existing housing values\n",
    "zensus_data_by_neighborhood = zensus_data_by_neighborhood.dropna(subset=['Land_Value'])\n",
    "# Remove geometry column and add polygon areas\n",
    "zensus_data_by_neighborhood = zensus_data_by_neighborhood.drop(columns=['geometry'])\n",
    "zensus_data_by_neighborhood = pd.merge(zensus_data_by_neighborhood, neighborhood_polygons[['Neighborhood_FID', 'geometry']], on='Neighborhood_FID', how='left')\n",
    "zensus_data_by_neighborhood_grouped = zensus_data_by_neighborhood.groupby('Neighborhood_FID')"
   ]
  },
  {
   "cell_type": "code",
   "execution_count": 9,
   "metadata": {},
   "outputs": [
    {
     "data": {
      "text/plain": [
       "Index(['Area Type', 'Total number of buildings', 'Euros per square meter',\n",
       "       'Neighborhood ID', 'geometry', 'Amount of German citizens',\n",
       "       'Amount of foreign citizens', 'Age Group under 18', 'Age Group 18-29',\n",
       "       'Age Group 30-49', 'Age Group 50-64', 'Age Group >65',\n",
       "       'Houses with building year under 1919',\n",
       "       'Houses with building year 1919-1948',\n",
       "       'Houses with building year 1948-1978',\n",
       "       'Houses with building year 1979-1995',\n",
       "       'Houses with building year 1996-2008',\n",
       "       'Houses with building year >2009', 'Household size 1',\n",
       "       'Household size 2', 'Household size 3', 'Household size 4',\n",
       "       'Household size 5', 'Household size >=6'],\n",
       "      dtype='object')"
      ]
     },
     "execution_count": 9,
     "metadata": {},
     "output_type": "execute_result"
    }
   ],
   "source": [
    "# Drop un\n",
    "column_names_map = {\"Area_Types\": \"Area Type\", \"buildings_total_units\": \"Total number of buildings\", \"Land_Value\": \"Euros per square meter\", \"Neighborhood_FID\": \"Neighborhood ID\", \"geometry\": \"geometry\", \"sk_germany\": \"Amount of German citizens\", \"sk_abroad\": \"Amount of foreign citizens\"}\n",
    "age_group_map = {\"alk_18_under\": \"Age Group under 18\", \"alk_18_29\": \"Age Group 18-29\", \"alk_30_49\": \"Age Group 30-49\", \"alk_50_64\": \"Age Group 50-64\", \"alk_65_over\": \"Age Group >65\"}\n",
    "building_age_map = {'j_before_1919': \"Houses with building year under 1919\",'j_1919_1948': \"Houses with building year 1919-1948\",'j_1949_1978': \"Houses with building year 1948-1978\",'j_1979_1995': \"Houses with building year 1979-1995\",'j_1996_2008': \"Houses with building year 1996-2008\",'j_2009_and_later': \"Houses with building year >2009\"}\n",
    "household_map = {\"hhgr_1_pers\": \"Household size 1\", \"hhgr_2_pers\": \"Household size 2\", \"hhgr_3_pers\": \"Household size 3\", \"hhgr_4_pers\": \"Household size 4\", \"hhgr_5_pers\": \"Household size 5\", \"hhgr_6_more\": \"Household size >=6\"}\n",
    "column_names_map.update(age_group_map)\n",
    "column_names_map.update(building_age_map)\n",
    "column_names_map.update(household_map)\n",
    "zensus_data_by_neighborhood_filtered = zensus_data_by_neighborhood[column_names_map.keys()]\n",
    "zensus_data_by_neighborhood_filtered = zensus_data_by_neighborhood_filtered.rename(columns=column_names_map)\n",
    "zensus_data_by_neighborhood_filtered.columns"
   ]
  },
  {
   "cell_type": "code",
   "execution_count": 10,
   "metadata": {},
   "outputs": [],
   "source": [
    "agg_funcs = {column: 'sum' for column in column_names_map.values()}\n",
    "agg_funcs.update({\n",
    "    'Area Type': 'first',\n",
    "    'geometry': 'first',\n",
    "    'Euros per square meter': 'mean'\n",
    "})\n",
    "agg_funcs.pop('Neighborhood ID')\n",
    "\n",
    "zensus_data_by_neighborhood = zensus_data_by_neighborhood_filtered.groupby(\"Neighborhood ID\").agg(agg_funcs)"
   ]
  },
  {
   "cell_type": "code",
   "execution_count": 11,
   "metadata": {},
   "outputs": [],
   "source": [
    "# Add Neighborhood name\n",
    "df6 = df6.rename(columns={'Neighborhood_FID': 'Neighborhood ID', 'Neighborhood_Name': 'Neighborhood Name'})\n",
    "df6 = df6[['Neighborhood ID', 'Neighborhood Name']]\n",
    "zensus_data_by_neighborhood = pd.merge(zensus_data_by_neighborhood, df6, on='Neighborhood ID')"
   ]
  },
  {
   "cell_type": "code",
   "execution_count": 12,
   "metadata": {},
   "outputs": [],
   "source": [
    "# Get percentage of German citizens\n",
    "german = zensus_data_by_neighborhood[\"Amount of German citizens\"]\n",
    "foreign = zensus_data_by_neighborhood[\"Amount of foreign citizens\"]\n",
    "zensus_data_by_neighborhood[\"Percentage of German citizens\"] = (german)/(german+foreign)"
   ]
  },
  {
   "cell_type": "code",
   "execution_count": 13,
   "metadata": {},
   "outputs": [],
   "source": [
    "# Get number of residents per building\n",
    "buildings = zensus_data_by_neighborhood[\"Total number of buildings\"]\n",
    "german = zensus_data_by_neighborhood[\"Amount of German citizens\"]\n",
    "foreign = zensus_data_by_neighborhood[\"Amount of foreign citizens\"]\n",
    "zensus_data_by_neighborhood[\"Amount of residents per building\"] = (german+foreign)/buildings"
   ]
  },
  {
   "cell_type": "code",
   "execution_count": 14,
   "metadata": {},
   "outputs": [],
   "source": [
    "# Normalize building data\n",
    "buildings = zensus_data_by_neighborhood[\"Total number of buildings\"]\n",
    "for house_age in building_age_map.values():\n",
    "    normalized = zensus_data_by_neighborhood[house_age]/buildings\n",
    "    normalized.replace(np.nan, 0)\n",
    "    zensus_data_by_neighborhood['Percentage of ' + house_age] = normalized\n",
    "zensus_data_by_neighborhood=zensus_data_by_neighborhood.drop(columns=building_age_map.values())"
   ]
  },
  {
   "cell_type": "code",
   "execution_count": 17,
   "metadata": {},
   "outputs": [],
   "source": [
    "# Load vegetation data and distance from center\n",
    "df8 = pd.read_csv('data/bremen_district_spatial.csv', delimiter=',')\n",
    "df8 = df8.rename(columns=dict(zip(df8.columns, [\"Neighborhood ID\", \"Percentage of impervious land\", \"Percentage of water\", \"Percentage of vegetation\", \"Distance from center\"])))\n",
    "zensus_data_by_neighborhood = pd.merge(zensus_data_by_neighborhood, df8, on='Neighborhood ID')"
   ]
  },
  {
   "cell_type": "code",
   "execution_count": 18,
   "metadata": {},
   "outputs": [],
   "source": [
    "# Normalize age groups\n",
    "citizens = zensus_data_by_neighborhood[\"Amount of German citizens\"] + zensus_data_by_neighborhood[\"Amount of foreign citizens\"]\n",
    "for age in age_group_map.values():\n",
    "    normalized = zensus_data_by_neighborhood[age]/citizens\n",
    "    normalized.replace(np.nan, 0)\n",
    "    zensus_data_by_neighborhood['Percentage of ' + age] = normalized\n",
    "zensus_data_by_neighborhood=zensus_data_by_neighborhood.drop(columns=age_group_map.values())"
   ]
  },
  {
   "cell_type": "code",
   "execution_count": 19,
   "metadata": {},
   "outputs": [],
   "source": [
    "# Normalize household groups\n",
    "households = zensus_data_by_neighborhood[household_map.values()].sum(axis=1)\n",
    "for household in household_map.values():\n",
    "    normalized = zensus_data_by_neighborhood[household]/households\n",
    "    normalized.replace(np.nan, 0)\n",
    "    zensus_data_by_neighborhood['Percentage of ' + household] = normalized\n",
    "zensus_data_by_neighborhood=zensus_data_by_neighborhood.drop(columns=household_map.values())"
   ]
  },
  {
   "cell_type": "code",
   "execution_count": 20,
   "metadata": {},
   "outputs": [
    {
     "data": {
      "text/plain": [
       "Index(['Neighborhood ID', 'Area Type', 'Total number of buildings',\n",
       "       'Euros per square meter', 'geometry', 'Neighborhood Name',\n",
       "       'Percentage of German citizens', 'Amount of residents per building',\n",
       "       'Percentage of Houses with building year under 1919',\n",
       "       'Percentage of Houses with building year 1919-1948',\n",
       "       'Percentage of Houses with building year 1948-1978',\n",
       "       'Percentage of Houses with building year 1979-1995',\n",
       "       'Percentage of Houses with building year 1996-2008',\n",
       "       'Percentage of Houses with building year >2009',\n",
       "       'Percentage of impervious land_x', 'Percentage of water_x',\n",
       "       'Percentage of vegetation_x', 'Distance from center_x',\n",
       "       'Percentage of impervious land_y', 'Percentage of water_y',\n",
       "       'Percentage of vegetation_y', 'Distance from center_y',\n",
       "       'Percentage of Age Group under 18', 'Percentage of Age Group 18-29',\n",
       "       'Percentage of Age Group 30-49', 'Percentage of Age Group 50-64',\n",
       "       'Percentage of Age Group >65', 'Percentage of Household size 1',\n",
       "       'Percentage of Household size 2', 'Percentage of Household size 3',\n",
       "       'Percentage of Household size 4', 'Percentage of Household size 5',\n",
       "       'Percentage of Household size >=6'],\n",
       "      dtype='object')"
      ]
     },
     "execution_count": 20,
     "metadata": {},
     "output_type": "execute_result"
    }
   ],
   "source": [
    "zensus_data_by_neighborhood = zensus_data_by_neighborhood.drop(columns=[\"Amount of German citizens\", \"Amount of foreign citizens\"])\n",
    "zensus_data_by_neighborhood.columns\n"
   ]
  },
  {
   "cell_type": "code",
   "execution_count": 21,
   "metadata": {},
   "outputs": [
    {
     "data": {
      "text/plain": [
       "<bound method Series.isna of 0     1.522943\n",
       "1     1.560082\n",
       "2     1.666140\n",
       "3     2.523810\n",
       "4          inf\n",
       "        ...   \n",
       "82    2.016348\n",
       "83    1.970539\n",
       "84    2.023368\n",
       "85    2.321429\n",
       "86    2.221151\n",
       "Name: Amount of residents per building, Length: 87, dtype: float64>"
      ]
     },
     "execution_count": 21,
     "metadata": {},
     "output_type": "execute_result"
    }
   ],
   "source": [
    "zensus_data_by_neighborhood['Amount of residents per building'].isna"
   ]
  },
  {
   "cell_type": "code",
   "execution_count": 22,
   "metadata": {},
   "outputs": [],
   "source": [
    "gpd.GeoDataFrame(zensus_data_by_neighborhood).to_file('bremen_merged_data.gpkg', driver='GPKG')"
   ]
  },
  {
   "cell_type": "code",
   "execution_count": 26,
   "metadata": {},
   "outputs": [
    {
     "name": "stdout",
     "output_type": "stream",
     "text": [
      "r-squared: 0.611 (0.111)\n"
     ]
    }
   ],
   "source": [
    "X_data = zensus_data_by_neighborhood.drop(columns=['geometry', 'Area Type', 'Neighborhood Name'])\n",
    "X_data.replace([np.inf, -np.inf], np.nan, inplace=True)\n",
    "X_data.dropna()\n",
    "y_data = X_data['Euros per square meter']\n",
    "X_data.drop(columns=['Euros per square meter'], inplace=True)\n",
    "\n",
    "# Define the XGBRegressor model\n",
    "model = XGBRegressor()\n",
    "model.fit(X_data, y_data)\n",
    "# define model evaluation method\n",
    "cv = RepeatedKFold(n_splits=4, n_repeats=3, random_state=13)\n",
    "# evaluate model\n",
    "scores = cross_val_score(model, X_data, y_data, scoring='r2', cv=cv, n_jobs=-1)\n",
    "# force scores to be positive\n",
    "scores = abs(scores)\n",
    "print('r-squared: %.3f (%.3f)' % (scores.mean(), scores.std()) )"
   ]
  },
  {
   "cell_type": "code",
   "execution_count": 28,
   "metadata": {},
   "outputs": [],
   "source": [
    "model.save_model(\"xgboost_model.json\")"
   ]
  }
 ],
 "metadata": {
  "kernelspec": {
   "display_name": "ifohack_spatial_py310",
   "language": "python",
   "name": "python3"
  },
  "language_info": {
   "codemirror_mode": {
    "name": "ipython",
    "version": 3
   },
   "file_extension": ".py",
   "mimetype": "text/x-python",
   "name": "python",
   "nbconvert_exporter": "python",
   "pygments_lexer": "ipython3",
   "version": "3.10.10"
  },
  "orig_nbformat": 4
 },
 "nbformat": 4,
 "nbformat_minor": 2
}
