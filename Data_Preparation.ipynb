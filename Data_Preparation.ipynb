{
 "cells": [
  {
   "attachments": {},
   "cell_type": "markdown",
   "metadata": {},
   "source": [
    "# data preparation notebook"
   ]
  },
  {
   "attachments": {},
   "cell_type": "markdown",
   "metadata": {},
   "source": [
    "Start with importing all necessary libraries"
   ]
  },
  {
   "cell_type": "code",
   "execution_count": 45,
   "metadata": {},
   "outputs": [],
   "source": [
    "import pandas as pd\n",
    "import geopandas as gpd\n",
    "import folium \n",
    "import matplotlib.pyplot as plt\n",
    "from sklearn.cluster import KMeans\n",
    "from sklearn.model_selection import train_test_split\n",
    "from sklearn.metrics import accuracy_score\n",
    "from sklearn.metrics import mean_squared_error\n",
    "import numpy as np\n",
    "from scipy.stats import linregress\n",
    "import folium\n",
    "from scipy.stats import pearsonr\n",
    "import streamlit as st\n",
    "from streamlit_folium import folium_static\n",
    "from pysal.lib import weights  \n",
    "import segregation as seg\n",
    "from sklearn.metrics import r2_score\n",
    "from xgboost.sklearn import XGBRegressor\n",
    "from sklearn.model_selection import cross_val_score\n",
    "from sklearn.model_selection import RepeatedKFold\n",
    "import shap\n"
   ]
  },
  {
   "attachments": {},
   "cell_type": "markdown",
   "metadata": {},
   "source": [
    "Read in all data"
   ]
  },
  {
   "cell_type": "code",
   "execution_count": 46,
   "metadata": {},
   "outputs": [],
   "source": [
    "# Read zensus data in 100m x 100m grid\n",
    "df1 = pd.read_csv('data/Zensus_Bremen_Buildings.csv', delimiter=';', index_col=0)\n",
    "df2 = pd.read_csv('data/Zensus_Bremen_Families.csv', delimiter=';', index_col=0)\n",
    "df3 = pd.read_csv('data/Zensus_Bremen_Households.csv', delimiter=';', index_col=0)\n",
    "df4 = pd.read_csv('data/Zensus_Bremen_Population.csv', delimiter=';', index_col=0)\n",
    "df5 = gpd.read_file('data/Zensus_Bremen_Grid_100m.gpkg')\n",
    "df6 = gpd.read_file('data/Neighborhoods_Bremen.gpkg')\n",
    "# Load the neighborhood polygons\n",
    "neighborhood_polygons = gpd.read_file('data/Land_Prices_Neighborhood_Bremen.gpkg')"
   ]
  },
  {
   "attachments": {},
   "cell_type": "markdown",
   "metadata": {},
   "source": [
    "Now we transform the data to get one table to work with"
   ]
  },
  {
   "cell_type": "code",
   "execution_count": 47,
   "metadata": {},
   "outputs": [],
   "source": [
    "# Merge them into a single dataframe by the column Grid_Code\n",
    "merged_df = pd.merge(df1, df2, on='Grid_Code')\n",
    "merged_df = pd.merge(merged_df, df3, on='Grid_Code')\n",
    "merged_df = pd.merge(merged_df, df4, on='Grid_Code')\n",
    "merged_df = pd.merge(merged_df, df5, on='Grid_Code')\n",
    "\n",
    "zensus_data = gpd.GeoDataFrame(merged_df)\n",
    "# Extract the grid middle points to match them later to their respective neighborhoods\n",
    "zensus_data.geometry = zensus_data.geometry.centroid\n",
    "# Reproject the data to use the same coordinate system\n",
    "neighborhood_polygons = neighborhood_polygons.to_crs(zensus_data.crs)\n",
    "# Join the grid points into the neighborhoods and group them\n",
    "zensus_data_by_neighborhood = gpd.sjoin(zensus_data, neighborhood_polygons, how='left', op='within')\n",
    "# Drop any non numeric data\n",
    "zensus_data_by_neighborhood['BRW'] = pd.to_numeric(zensus_data_by_neighborhood.Land_Value, errors='coerce')\n",
    "# Drop grid cells with not existing housing values\n",
    "zensus_data_by_neighborhood = zensus_data_by_neighborhood.dropna(subset=['Land_Value'])\n",
    "# Remove geometry column and add polygon areas\n",
    "zensus_data_by_neighborhood = zensus_data_by_neighborhood.drop(columns=['geometry'])\n",
    "zensus_data_by_neighborhood = pd.merge(zensus_data_by_neighborhood, neighborhood_polygons[['Neighborhood_FID', 'geometry']], on='Neighborhood_FID', how='left')\n",
    "zensus_data_by_neighborhood_grouped = zensus_data_by_neighborhood.groupby('Neighborhood_FID')\n",
    "\n",
    "# rename columns\n",
    "column_names_map = {\"Area_Types\": \"Area Type\", \"buildings_total_units\": \"Total number of buildings\", \"Land_Value\": \"Euros per square meter\", \"Neighborhood_FID\": \"Neighborhood ID\", \"geometry\": \"geometry\", \"sk_germany\": \"Amount of German citizens\", \"sk_abroad\": \"Amount of foreign citizens\"}\n",
    "age_group_map = {\"alk_18_under\": \"Age Group under 18\", \"alk_18_29\": \"Age Group 18-29\", \"alk_30_49\": \"Age Group 30-49\", \"alk_50_64\": \"Age Group 50-64\", \"alk_65_over\": \"Age Group >65\"}\n",
    "building_age_map = {'j_before_1919': \"Houses with building year under 1919\",'j_1919_1948': \"Houses with building year 1919-1948\",'j_1949_1978': \"Houses with building year 1948-1978\",'j_1979_1995': \"Houses with building year 1979-1995\",'j_1996_2008': \"Houses with building year 1996-2008\",'j_2009_and_later': \"Houses with building year >2009\"}\n",
    "household_map = {\"hhgr_1_pers\": \"Household size 1\", \"hhgr_2_pers\": \"Household size 2\", \"hhgr_3_pers\": \"Household size 3\", \"hhgr_4_pers\": \"Household size 4\", \"hhgr_5_pers\": \"Household size 5\", \"hhgr_6_more\": \"Household size >=6\"}\n",
    "column_names_map.update(age_group_map)\n",
    "column_names_map.update(building_age_map)\n",
    "column_names_map.update(household_map)\n",
    "zensus_data_by_neighborhood_filtered = zensus_data_by_neighborhood[column_names_map.keys()]\n",
    "zensus_data_by_neighborhood_filtered = zensus_data_by_neighborhood_filtered.rename(columns=column_names_map)\n"
   ]
  },
  {
   "cell_type": "code",
   "execution_count": 48,
   "metadata": {},
   "outputs": [],
   "source": [
    "agg_funcs = {column: 'sum' for column in column_names_map.values()}\n",
    "agg_funcs.update({\n",
    "    'Area Type': 'first',\n",
    "    'geometry': 'first',\n",
    "    'Euros per square meter': 'mean'\n",
    "})\n",
    "agg_funcs.pop('Neighborhood ID')\n",
    "\n",
    "zensus_data_by_neighborhood = zensus_data_by_neighborhood_filtered.groupby(\"Neighborhood ID\").agg(agg_funcs)"
   ]
  },
  {
   "cell_type": "code",
   "execution_count": 49,
   "metadata": {},
   "outputs": [],
   "source": [
    "# Add Neighborhood name\n",
    "df6 = df6.rename(columns={'Neighborhood_FID': 'Neighborhood ID', 'Neighborhood_Name': 'Neighborhood Name'})\n",
    "df6 = df6[['Neighborhood ID', 'Neighborhood Name']]\n",
    "zensus_data_by_neighborhood = pd.merge(zensus_data_by_neighborhood, df6, on='Neighborhood ID')"
   ]
  },
  {
   "cell_type": "code",
   "execution_count": 50,
   "metadata": {},
   "outputs": [],
   "source": [
    "# Get percentage of German citizens\n",
    "german = zensus_data_by_neighborhood[\"Amount of German citizens\"]\n",
    "foreign = zensus_data_by_neighborhood[\"Amount of foreign citizens\"]\n",
    "zensus_data_by_neighborhood[\"Percentage of German citizens\"] = (german)/(german+foreign)"
   ]
  },
  {
   "cell_type": "code",
   "execution_count": 51,
   "metadata": {},
   "outputs": [],
   "source": [
    "# Get number of residents per building\n",
    "buildings = zensus_data_by_neighborhood[\"Total number of buildings\"]\n",
    "german = zensus_data_by_neighborhood[\"Amount of German citizens\"]\n",
    "foreign = zensus_data_by_neighborhood[\"Amount of foreign citizens\"]\n",
    "zensus_data_by_neighborhood[\"Amount of residents per building\"] = (german+foreign)/buildings"
   ]
  },
  {
   "cell_type": "code",
   "execution_count": 52,
   "metadata": {},
   "outputs": [],
   "source": [
    "# Normalize building data\n",
    "buildings = zensus_data_by_neighborhood[\"Total number of buildings\"]\n",
    "for house_age in building_age_map.values():\n",
    "    normalized = zensus_data_by_neighborhood[house_age]/buildings\n",
    "    normalized.replace(np.nan, 0)\n",
    "    zensus_data_by_neighborhood['Percentage of ' + house_age] = normalized\n",
    "zensus_data_by_neighborhood=zensus_data_by_neighborhood.drop(columns=building_age_map.values())"
   ]
  },
  {
   "cell_type": "code",
   "execution_count": 53,
   "metadata": {},
   "outputs": [],
   "source": [
    "# Load vegetation data and distance from center\n",
    "df8 = pd.read_csv('data/bremen_district_spatial.csv', delimiter=',')\n",
    "df8 = df8.rename(columns=dict(zip(df8.columns, [\"Neighborhood ID\", \"Percentage of impervious land\", \"Percentage of water\", \"Percentage of vegetation\", \"Distance from center\"])))\n",
    "zensus_data_by_neighborhood = pd.merge(zensus_data_by_neighborhood, df8, on='Neighborhood ID')"
   ]
  },
  {
   "cell_type": "code",
   "execution_count": 54,
   "metadata": {},
   "outputs": [],
   "source": [
    "# Normalize age groups\n",
    "citizens = zensus_data_by_neighborhood[\"Amount of German citizens\"] + zensus_data_by_neighborhood[\"Amount of foreign citizens\"]\n",
    "for age in age_group_map.values():\n",
    "    normalized = zensus_data_by_neighborhood[age]/citizens\n",
    "    normalized.replace(np.nan, 0)\n",
    "    zensus_data_by_neighborhood['Percentage of ' + age] = normalized\n",
    "zensus_data_by_neighborhood=zensus_data_by_neighborhood.drop(columns=age_group_map.values())"
   ]
  },
  {
   "cell_type": "code",
   "execution_count": 55,
   "metadata": {},
   "outputs": [],
   "source": [
    "# Normalize household groups\n",
    "households = zensus_data_by_neighborhood[household_map.values()].sum(axis=1)\n",
    "for household in household_map.values():\n",
    "    normalized = zensus_data_by_neighborhood[household]/households\n",
    "    normalized.replace(np.nan, 0)\n",
    "    zensus_data_by_neighborhood['Percentage of ' + household] = normalized\n",
    "zensus_data_by_neighborhood=zensus_data_by_neighborhood.drop(columns=household_map.values())"
   ]
  },
  {
   "cell_type": "code",
   "execution_count": 56,
   "metadata": {},
   "outputs": [],
   "source": [
    "zensus_data_by_neighborhood = zensus_data_by_neighborhood.drop(columns=[\"Amount of German citizens\", \"Amount of foreign citizens\"])\n"
   ]
  },
  {
   "cell_type": "code",
   "execution_count": 57,
   "metadata": {},
   "outputs": [],
   "source": [
    "gpd.GeoDataFrame(zensus_data_by_neighborhood).to_file('bremen_merged_data.gpkg', driver='GPKG')"
   ]
  },
  {
   "cell_type": "code",
   "execution_count": 58,
   "metadata": {},
   "outputs": [
    {
     "name": "stdout",
     "output_type": "stream",
     "text": [
      "r-squared: 0.611 (0.111)\n"
     ]
    }
   ],
   "source": [
    "X_data = zensus_data_by_neighborhood.drop(columns=['geometry', 'Area Type', 'Neighborhood Name'])\n",
    "X_data.replace([np.inf, -np.inf], np.nan, inplace=True)\n",
    "X_data.dropna()\n",
    "y_data = X_data['Euros per square meter']\n",
    "X_data.drop(columns=['Euros per square meter'], inplace=True)\n",
    "\n",
    "# Define the XGBRegressor model\n",
    "model = XGBRegressor()\n",
    "model.fit(X_data, y_data)\n",
    "# define model evaluation method\n",
    "cv = RepeatedKFold(n_splits=4, n_repeats=3, random_state=13)\n",
    "# evaluate model\n",
    "scores = cross_val_score(model, X_data, y_data, scoring='r2', cv=cv, n_jobs=-1)\n",
    "# force scores to be positive\n",
    "scores = abs(scores)\n",
    "print('r-squared: %.3f (%.3f)' % (scores.mean(), scores.std()) )"
   ]
  },
  {
   "cell_type": "code",
   "execution_count": 59,
   "metadata": {},
   "outputs": [],
   "source": [
    "model.save_model(\"xgboost_model.json\")"
   ]
  }
 ],
 "metadata": {
  "kernelspec": {
   "display_name": "ifohack_spatial_py310",
   "language": "python",
   "name": "python3"
  },
  "language_info": {
   "codemirror_mode": {
    "name": "ipython",
    "version": 3
   },
   "file_extension": ".py",
   "mimetype": "text/x-python",
   "name": "python",
   "nbconvert_exporter": "python",
   "pygments_lexer": "ipython3",
   "version": "3.10.10"
  },
  "orig_nbformat": 4
 },
 "nbformat": 4,
 "nbformat_minor": 2
}
